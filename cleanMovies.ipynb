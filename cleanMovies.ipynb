{
 "cells": [
  {
   "cell_type": "code",
   "execution_count": 27,
   "metadata": {},
   "outputs": [],
   "source": [
    "#import dependencies\n",
    "import pandas as pd \n",
    "import json\n",
    "import numpy as np\n",
    "import re"
   ]
  },
  {
   "cell_type": "code",
   "execution_count": 2,
   "metadata": {},
   "outputs": [],
   "source": [
    "file_dir = '/Users/enriquebustamante/DataAustin2020/Movies-ETL/'"
   ]
  },
  {
   "cell_type": "code",
   "execution_count": 3,
   "metadata": {},
   "outputs": [],
   "source": [
    "with open(f'{file_dir}wikipedia.movies.json', mode='r') as file:\n",
    "    wiki_movies_raw = json.load(file)"
   ]
  },
  {
   "cell_type": "code",
   "execution_count": 4,
   "metadata": {},
   "outputs": [
    {
     "output_type": "execute_result",
     "data": {
      "text/plain": "[{'url': 'https://en.wikipedia.org/wiki/Holmes_%26_Watson',\n  'year': 2018,\n  'imdb_link': 'https://www.imdb.com/title/tt1255919/',\n  'title': 'Holmes & Watson',\n  'Directed by': 'Etan Cohen',\n  'Produced by': ['Will Ferrell',\n   'Adam McKay',\n   'Jimmy Miller',\n   'Clayton Townsend'],\n  'Screenplay by': 'Etan Cohen',\n  'Based on': ['Sherlock Holmes',\n   'and',\n   'Dr. Watson',\n   'by',\n   'Sir Arthur Conan Doyle'],\n  'Starring': ['Will Ferrell',\n   'John C. Reilly',\n   'Rebecca Hall',\n   'Rob Brydon',\n   'Steve Coogan',\n   'Ralph Fiennes'],\n  'Music by': 'Mark Mothersbaugh',\n  'Cinematography': 'Oliver Wood',\n  'Edited by': 'Dean Zimmerman',\n  'Productioncompanies ': ['Columbia Pictures',\n   'Gary Sanchez Productions',\n   'Mosaic Media Group',\n   'Mimran Schur Pictures'],\n  'Distributed by': 'Sony Pictures Releasing',\n  'Release date': ['December 25, 2018',\n   '(',\n   '2018-12-25',\n   ')',\n   '(United States)'],\n  'Running time': '90 minutes',\n  'Country': 'United States',\n  'Language': 'English',\n  'Budget': '$42 million',\n  'Box office': '$41.9 million'},\n {'url': 'https://en.wikipedia.org/wiki/Vice_(2018_film)',\n  'year': 2018,\n  'imdb_link': 'https://www.imdb.com/title/tt6266538/',\n  'title': 'Vice',\n  'Directed by': 'Adam McKay',\n  'Produced by': ['Brad Pitt',\n   'Dede Gardner',\n   'Jeremy Kleiner',\n   'Kevin J. Messick',\n   'Will Ferrell',\n   'Adam McKay'],\n  'Written by': 'Adam McKay',\n  'Starring': ['Christian Bale',\n   'Amy Adams',\n   'Steve Carell',\n   'Sam Rockwell',\n   'Tyler Perry',\n   'Alison Pill',\n   'Lily Rabe',\n   'Jesse Plemons'],\n  'Music by': 'Nicholas Britell',\n  'Cinematography': 'Greig Fraser',\n  'Edited by': 'Hank Corwin',\n  'Productioncompany ': ['Plan B Entertainment',\n   'Gary Sanchez Productions',\n   'Annapurna Pictures'],\n  'Distributed by': 'Mirror Releasing',\n  'Release date': ['December 11, 2018',\n   '(',\n   '2018-12-11',\n   ')',\n   '(',\n   'Samuel Goldwyn Theater',\n   ')',\n   'December 25, 2018',\n   '(',\n   '2018-12-25',\n   ')',\n   '(United States)'],\n  'Running time': '132 minutes',\n  'Country': 'United States',\n  'Language': 'English',\n  'Budget': '$60 million',\n  'Box office': '$76.1 million'},\n {'url': 'https://en.wikipedia.org/wiki/On_the_Basis_of_Sex',\n  'year': 2018,\n  'imdb_link': 'https://www.imdb.com/title/tt4669788/',\n  'title': 'On the Basis of Sex',\n  'Directed by': 'Mimi Leder',\n  'Produced by': 'Robert W. Cort',\n  'Written by': 'Daniel Stiepleman',\n  'Starring': ['Felicity Jones',\n   'Armie Hammer',\n   'Justin Theroux',\n   'Sam Waterston',\n   'Kathy Bates'],\n  'Music by': 'Mychael Danna',\n  'Cinematography': 'Michael Grady',\n  'Edited by': 'Michelle Tesoro',\n  'Productioncompanies ': ['Focus Features',\n   '[1]',\n   'Participant Media',\n   '[1]',\n   'Robert Cort Productions',\n   '[1]',\n   'Alibaba Pictures',\n   '[2]'],\n  'Distributed by': 'Focus Features',\n  'Release date': ['November 8, 2018',\n   '(',\n   '2018-11-08',\n   ')',\n   '(',\n   'AFI Fest',\n   ')',\n   'December 25, 2018',\n   '(',\n   '2018-12-25',\n   ')',\n   '(United States)'],\n  'Running time': '120 minutes',\n  'Country': 'United States',\n  'Language': 'English',\n  'Budget': '$20 million',\n  'Box office': '$38.4 million'},\n {'url': 'https://en.wikipedia.org/wiki/Destroyer_(2018_film)',\n  'year': 2018,\n  'imdb_link': 'https://www.imdb.com/title/tt7137380/',\n  'title': 'Destroyer',\n  'Directed by': 'Karyn Kusama',\n  'Produced by': ['Fred Berger', 'Phil Hay', 'Matt Manfredi'],\n  'Written by': ['Phil Hay', 'Matt Manfredi'],\n  'Starring': ['Nicole Kidman',\n   'Sebastian Stan',\n   'Toby Kebbell',\n   'Tatiana Maslany',\n   'Bradley Whitford',\n   'Jade Pettyjohn',\n   'Scoot McNairy'],\n  'Music by': 'Theodore Shapiro',\n  'Cinematography': 'Julie Kirkwood',\n  'Edited by': 'Plummy Tucker',\n  'Productioncompany ': ['30West',\n   'Automatik Entertainment',\n   'Annapurna Pictures'],\n  'Distributed by': 'Mirror Releasing',\n  'Release date': ['August 31, 2018',\n   '(',\n   '2018-08-31',\n   ')',\n   '(',\n   'Telluride',\n   ')',\n   'December 25, 2018',\n   '(',\n   '2018-12-25',\n   ')',\n   '(United States)'],\n  'Running time': '123 minutes',\n  'Country': 'United States',\n  'Language': 'English',\n  'Budget': '$9 million',\n  'Box office': '$5.5 million'},\n {'url': 'https://en.wikipedia.org/wiki/Black_Mirror:_Bandersnatch',\n  'year': 2018,\n  'imdb_link': 'https://www.imdb.com/title/tt9495224/',\n  'title': 'Bandersnatch',\n  'Directed by': 'David Slade',\n  'Produced by': 'Russell McLean',\n  'Written by': 'Charlie Brooker',\n  'Starring': ['Fionn Whitehead',\n   'Will Poulter',\n   'Craig Parkinson',\n   'Alice Lowe',\n   'Asim Chaudhry'],\n  'Music by': 'Brian Reitzell',\n  'Cinematography': ['Aaron Morton', 'Jake Polonsky'],\n  'Edited by': 'Tony Kearns',\n  'Productioncompany ': ['House of Tomorrow', 'Netflix'],\n  'Distributed by': 'Netflix',\n  'Release date': ['28 December 2018', '(', '2018-12-28', ')'],\n  'Running time': 'Variable; 90 minutes for default path',\n  'Country': 'United Kingdom',\n  'Language': 'English'}]"
     },
     "metadata": {},
     "execution_count": 4
    }
   ],
   "source": [
    "wiki_movies_raw[-5:]"
   ]
  },
  {
   "cell_type": "code",
   "execution_count": 5,
   "metadata": {},
   "outputs": [],
   "source": [
    "kaggle_metadata = pd.read_csv(f'{file_dir}movies_metadata.csv')\n",
    "ratings = pd.read_csv(f'{file_dir}ratings.csv')"
   ]
  },
  {
   "cell_type": "code",
   "execution_count": 6,
   "metadata": {},
   "outputs": [
    {
     "output_type": "execute_result",
     "data": {
      "text/plain": "       adult                              belongs_to_collection budget  \\\n38889  False                                                NaN      0   \n12349  False                                                NaN      0   \n41802  False                                                NaN      0   \n43551  False  {'id': 431791, 'name': 'Classmates Collection'...      0   \n5492   False                                                NaN      0   \n\n                                                  genres  \\\n38889  [{'id': 35, 'name': 'Comedy'}, {'id': 18, 'nam...   \n12349  [{'id': 14, 'name': 'Fantasy'}, {'id': 16, 'na...   \n41802                     [{'id': 35, 'name': 'Comedy'}]   \n43551  [{'id': 10749, 'name': 'Romance'}, {'id': 35, ...   \n5492   [{'id': 28, 'name': 'Action'}, {'id': 12, 'nam...   \n\n                              homepage      id    imdb_id original_language  \\\n38889                              NaN  339928  tt4002772                en   \n12349                              NaN   25078  tt0385586                ja   \n41802  http://www.hurricanebianca.com/  400547  tt4007248                en   \n43551                              NaN  402223  tt5526660                ru   \n5492                               NaN   15173  tt0298388                en   \n\n                   original_title  \\\n38889        Once I Was a Beehive   \n12349                       ねこぢる草   \n41802            Hurricane Bianca   \n43551               Одноклассницы   \n5492   Jonah: A VeggieTales Movie   \n\n                                                overview  ... release_date  \\\n38889  Comedy - Lane Speer is a 16 year old girl who ...  ...   2015-08-14   \n12349  The surreal black comedy follows Nyatta, an an...  ...   2001-02-21   \n41802  Hurricane Bianca is a revenge comedy about a N...  ...   2016-06-03   \n43551  Sochi, Russia. The day before wedding Katya fi...  ...   2016-06-16   \n5492   Get ready as Bob the Tomato, Larry the Cucumbe...  ...   2002-10-04   \n\n        revenue runtime                                   spoken_languages  \\\n38889  732655.0   119.0  [{'iso_639_1': 'pt', 'name': 'Português'}, {'i...   \n12349       0.0    34.0               [{'iso_639_1': 'ja', 'name': '日本語'}]   \n41802       0.0    84.0           [{'iso_639_1': 'en', 'name': 'English'}]   \n43551       0.0    80.0           [{'iso_639_1': 'ru', 'name': 'Pусский'}]   \n5492        0.0    82.0  [{'iso_639_1': 'cs', 'name': 'Český'}, {'iso_6...   \n\n         status                        tagline                       title  \\\n38889  Released                            NaN        Once I Was a Beehive   \n12349  Released                            NaN                    Cat Soup   \n41802  Released             Revenge is a bitch            Hurricane Bianca   \n43551  Released                            NaN                  Classmates   \n5492   Released  Fresh Fish. Mixed Vegetables.  Jonah: A VeggieTales Movie   \n\n       video vote_average vote_count  \n38889  False          6.3       18.0  \n12349  False          7.4       27.0  \n41802  False          6.3       63.0  \n43551  False          4.1        8.0  \n5492    True          6.4       22.0  \n\n[5 rows x 24 columns]",
      "text/html": "<div>\n<style scoped>\n    .dataframe tbody tr th:only-of-type {\n        vertical-align: middle;\n    }\n\n    .dataframe tbody tr th {\n        vertical-align: top;\n    }\n\n    .dataframe thead th {\n        text-align: right;\n    }\n</style>\n<table border=\"1\" class=\"dataframe\">\n  <thead>\n    <tr style=\"text-align: right;\">\n      <th></th>\n      <th>adult</th>\n      <th>belongs_to_collection</th>\n      <th>budget</th>\n      <th>genres</th>\n      <th>homepage</th>\n      <th>id</th>\n      <th>imdb_id</th>\n      <th>original_language</th>\n      <th>original_title</th>\n      <th>overview</th>\n      <th>...</th>\n      <th>release_date</th>\n      <th>revenue</th>\n      <th>runtime</th>\n      <th>spoken_languages</th>\n      <th>status</th>\n      <th>tagline</th>\n      <th>title</th>\n      <th>video</th>\n      <th>vote_average</th>\n      <th>vote_count</th>\n    </tr>\n  </thead>\n  <tbody>\n    <tr>\n      <td>38889</td>\n      <td>False</td>\n      <td>NaN</td>\n      <td>0</td>\n      <td>[{'id': 35, 'name': 'Comedy'}, {'id': 18, 'nam...</td>\n      <td>NaN</td>\n      <td>339928</td>\n      <td>tt4002772</td>\n      <td>en</td>\n      <td>Once I Was a Beehive</td>\n      <td>Comedy - Lane Speer is a 16 year old girl who ...</td>\n      <td>...</td>\n      <td>2015-08-14</td>\n      <td>732655.0</td>\n      <td>119.0</td>\n      <td>[{'iso_639_1': 'pt', 'name': 'Português'}, {'i...</td>\n      <td>Released</td>\n      <td>NaN</td>\n      <td>Once I Was a Beehive</td>\n      <td>False</td>\n      <td>6.3</td>\n      <td>18.0</td>\n    </tr>\n    <tr>\n      <td>12349</td>\n      <td>False</td>\n      <td>NaN</td>\n      <td>0</td>\n      <td>[{'id': 14, 'name': 'Fantasy'}, {'id': 16, 'na...</td>\n      <td>NaN</td>\n      <td>25078</td>\n      <td>tt0385586</td>\n      <td>ja</td>\n      <td>ねこぢる草</td>\n      <td>The surreal black comedy follows Nyatta, an an...</td>\n      <td>...</td>\n      <td>2001-02-21</td>\n      <td>0.0</td>\n      <td>34.0</td>\n      <td>[{'iso_639_1': 'ja', 'name': '日本語'}]</td>\n      <td>Released</td>\n      <td>NaN</td>\n      <td>Cat Soup</td>\n      <td>False</td>\n      <td>7.4</td>\n      <td>27.0</td>\n    </tr>\n    <tr>\n      <td>41802</td>\n      <td>False</td>\n      <td>NaN</td>\n      <td>0</td>\n      <td>[{'id': 35, 'name': 'Comedy'}]</td>\n      <td>http://www.hurricanebianca.com/</td>\n      <td>400547</td>\n      <td>tt4007248</td>\n      <td>en</td>\n      <td>Hurricane Bianca</td>\n      <td>Hurricane Bianca is a revenge comedy about a N...</td>\n      <td>...</td>\n      <td>2016-06-03</td>\n      <td>0.0</td>\n      <td>84.0</td>\n      <td>[{'iso_639_1': 'en', 'name': 'English'}]</td>\n      <td>Released</td>\n      <td>Revenge is a bitch</td>\n      <td>Hurricane Bianca</td>\n      <td>False</td>\n      <td>6.3</td>\n      <td>63.0</td>\n    </tr>\n    <tr>\n      <td>43551</td>\n      <td>False</td>\n      <td>{'id': 431791, 'name': 'Classmates Collection'...</td>\n      <td>0</td>\n      <td>[{'id': 10749, 'name': 'Romance'}, {'id': 35, ...</td>\n      <td>NaN</td>\n      <td>402223</td>\n      <td>tt5526660</td>\n      <td>ru</td>\n      <td>Одноклассницы</td>\n      <td>Sochi, Russia. The day before wedding Katya fi...</td>\n      <td>...</td>\n      <td>2016-06-16</td>\n      <td>0.0</td>\n      <td>80.0</td>\n      <td>[{'iso_639_1': 'ru', 'name': 'Pусский'}]</td>\n      <td>Released</td>\n      <td>NaN</td>\n      <td>Classmates</td>\n      <td>False</td>\n      <td>4.1</td>\n      <td>8.0</td>\n    </tr>\n    <tr>\n      <td>5492</td>\n      <td>False</td>\n      <td>NaN</td>\n      <td>0</td>\n      <td>[{'id': 28, 'name': 'Action'}, {'id': 12, 'nam...</td>\n      <td>NaN</td>\n      <td>15173</td>\n      <td>tt0298388</td>\n      <td>en</td>\n      <td>Jonah: A VeggieTales Movie</td>\n      <td>Get ready as Bob the Tomato, Larry the Cucumbe...</td>\n      <td>...</td>\n      <td>2002-10-04</td>\n      <td>0.0</td>\n      <td>82.0</td>\n      <td>[{'iso_639_1': 'cs', 'name': 'Český'}, {'iso_6...</td>\n      <td>Released</td>\n      <td>Fresh Fish. Mixed Vegetables.</td>\n      <td>Jonah: A VeggieTales Movie</td>\n      <td>True</td>\n      <td>6.4</td>\n      <td>22.0</td>\n    </tr>\n  </tbody>\n</table>\n<p>5 rows × 24 columns</p>\n</div>"
     },
     "metadata": {},
     "execution_count": 6
    }
   ],
   "source": [
    "kaggle_metadata.sample(n=5)"
   ]
  },
  {
   "cell_type": "code",
   "execution_count": 7,
   "metadata": {},
   "outputs": [],
   "source": [
    "wiki_movies_df = pd.DataFrame(wiki_movies_raw)"
   ]
  },
  {
   "cell_type": "code",
   "execution_count": 8,
   "metadata": {},
   "outputs": [
    {
     "output_type": "execute_result",
     "data": {
      "text/plain": "                                                 url    year  \\\n0  https://en.wikipedia.org/wiki/The_Adventures_o...  1990.0   \n1  https://en.wikipedia.org/wiki/After_Dark,_My_S...  1990.0   \n2   https://en.wikipedia.org/wiki/Air_America_(film)  1990.0   \n3    https://en.wikipedia.org/wiki/Alice_(1990_film)  1990.0   \n4      https://en.wikipedia.org/wiki/Almost_an_Angel  1990.0   \n\n                               imdb_link                            title  \\\n0  https://www.imdb.com/title/tt0098987/  The Adventures of Ford Fairlane   \n1  https://www.imdb.com/title/tt0098994/             After Dark, My Sweet   \n2  https://www.imdb.com/title/tt0099005/                      Air America   \n3  https://www.imdb.com/title/tt0099012/                            Alice   \n4  https://www.imdb.com/title/tt0099018/                  Almost an Angel   \n\n          Directed by                  Produced by  \\\n0        Renny Harlin   [Steve Perry, Joel Silver]   \n1         James Foley  [Ric Kidney, Robert Redlin]   \n2  Roger Spottiswoode               Daniel Melnick   \n3         Woody Allen              Robert Greenhut   \n4        John Cornell                 John Cornell   \n\n                                Screenplay by                     Story by  \\\n0  [David Arnott, James Cappe, Daniel Waters]  [David Arnott, James Cappe]   \n1                [James Foley, Robert Redlin]                          NaN   \n2                  [John Eskow, Richard Rush]                          NaN   \n3                                         NaN                          NaN   \n4                                         NaN                          NaN   \n\n                                            Based on  \\\n0                        [Characters, by Rex Weiner]   \n1  [the novel, After Dark, My Sweet, by, Jim Thom...   \n2             [Air America, by, Christopher Robbins]   \n3                                                NaN   \n4                                                NaN   \n\n                                            Starring  ... Predecessor  \\\n0  [Andrew Dice Clay, Wayne Newton, Priscilla Pre...  ...         NaN   \n1  [Jason Patric, Rachel Ward, Bruce Dern, George...  ...         NaN   \n2  [Mel Gibson, Robert Downey Jr., Nancy Travis, ...  ...         NaN   \n3  [Alec Baldwin, Blythe Danner, Judy Davis, Mia ...  ...         NaN   \n4        [Paul Hogan, Elias Koteas, Linda Kozlowski]  ...         NaN   \n\n  Founders Area served Products Services Russian Hebrew Revenue  \\\n0      NaN         NaN      NaN      NaN     NaN    NaN     NaN   \n1      NaN         NaN      NaN      NaN     NaN    NaN     NaN   \n2      NaN         NaN      NaN      NaN     NaN    NaN     NaN   \n3      NaN         NaN      NaN      NaN     NaN    NaN     NaN   \n4      NaN         NaN      NaN      NaN     NaN    NaN     NaN   \n\n  Operating income Polish  \n0              NaN    NaN  \n1              NaN    NaN  \n2              NaN    NaN  \n3              NaN    NaN  \n4              NaN    NaN  \n\n[5 rows x 193 columns]",
      "text/html": "<div>\n<style scoped>\n    .dataframe tbody tr th:only-of-type {\n        vertical-align: middle;\n    }\n\n    .dataframe tbody tr th {\n        vertical-align: top;\n    }\n\n    .dataframe thead th {\n        text-align: right;\n    }\n</style>\n<table border=\"1\" class=\"dataframe\">\n  <thead>\n    <tr style=\"text-align: right;\">\n      <th></th>\n      <th>url</th>\n      <th>year</th>\n      <th>imdb_link</th>\n      <th>title</th>\n      <th>Directed by</th>\n      <th>Produced by</th>\n      <th>Screenplay by</th>\n      <th>Story by</th>\n      <th>Based on</th>\n      <th>Starring</th>\n      <th>...</th>\n      <th>Predecessor</th>\n      <th>Founders</th>\n      <th>Area served</th>\n      <th>Products</th>\n      <th>Services</th>\n      <th>Russian</th>\n      <th>Hebrew</th>\n      <th>Revenue</th>\n      <th>Operating income</th>\n      <th>Polish</th>\n    </tr>\n  </thead>\n  <tbody>\n    <tr>\n      <td>0</td>\n      <td>https://en.wikipedia.org/wiki/The_Adventures_o...</td>\n      <td>1990.0</td>\n      <td>https://www.imdb.com/title/tt0098987/</td>\n      <td>The Adventures of Ford Fairlane</td>\n      <td>Renny Harlin</td>\n      <td>[Steve Perry, Joel Silver]</td>\n      <td>[David Arnott, James Cappe, Daniel Waters]</td>\n      <td>[David Arnott, James Cappe]</td>\n      <td>[Characters, by Rex Weiner]</td>\n      <td>[Andrew Dice Clay, Wayne Newton, Priscilla Pre...</td>\n      <td>...</td>\n      <td>NaN</td>\n      <td>NaN</td>\n      <td>NaN</td>\n      <td>NaN</td>\n      <td>NaN</td>\n      <td>NaN</td>\n      <td>NaN</td>\n      <td>NaN</td>\n      <td>NaN</td>\n      <td>NaN</td>\n    </tr>\n    <tr>\n      <td>1</td>\n      <td>https://en.wikipedia.org/wiki/After_Dark,_My_S...</td>\n      <td>1990.0</td>\n      <td>https://www.imdb.com/title/tt0098994/</td>\n      <td>After Dark, My Sweet</td>\n      <td>James Foley</td>\n      <td>[Ric Kidney, Robert Redlin]</td>\n      <td>[James Foley, Robert Redlin]</td>\n      <td>NaN</td>\n      <td>[the novel, After Dark, My Sweet, by, Jim Thom...</td>\n      <td>[Jason Patric, Rachel Ward, Bruce Dern, George...</td>\n      <td>...</td>\n      <td>NaN</td>\n      <td>NaN</td>\n      <td>NaN</td>\n      <td>NaN</td>\n      <td>NaN</td>\n      <td>NaN</td>\n      <td>NaN</td>\n      <td>NaN</td>\n      <td>NaN</td>\n      <td>NaN</td>\n    </tr>\n    <tr>\n      <td>2</td>\n      <td>https://en.wikipedia.org/wiki/Air_America_(film)</td>\n      <td>1990.0</td>\n      <td>https://www.imdb.com/title/tt0099005/</td>\n      <td>Air America</td>\n      <td>Roger Spottiswoode</td>\n      <td>Daniel Melnick</td>\n      <td>[John Eskow, Richard Rush]</td>\n      <td>NaN</td>\n      <td>[Air America, by, Christopher Robbins]</td>\n      <td>[Mel Gibson, Robert Downey Jr., Nancy Travis, ...</td>\n      <td>...</td>\n      <td>NaN</td>\n      <td>NaN</td>\n      <td>NaN</td>\n      <td>NaN</td>\n      <td>NaN</td>\n      <td>NaN</td>\n      <td>NaN</td>\n      <td>NaN</td>\n      <td>NaN</td>\n      <td>NaN</td>\n    </tr>\n    <tr>\n      <td>3</td>\n      <td>https://en.wikipedia.org/wiki/Alice_(1990_film)</td>\n      <td>1990.0</td>\n      <td>https://www.imdb.com/title/tt0099012/</td>\n      <td>Alice</td>\n      <td>Woody Allen</td>\n      <td>Robert Greenhut</td>\n      <td>NaN</td>\n      <td>NaN</td>\n      <td>NaN</td>\n      <td>[Alec Baldwin, Blythe Danner, Judy Davis, Mia ...</td>\n      <td>...</td>\n      <td>NaN</td>\n      <td>NaN</td>\n      <td>NaN</td>\n      <td>NaN</td>\n      <td>NaN</td>\n      <td>NaN</td>\n      <td>NaN</td>\n      <td>NaN</td>\n      <td>NaN</td>\n      <td>NaN</td>\n    </tr>\n    <tr>\n      <td>4</td>\n      <td>https://en.wikipedia.org/wiki/Almost_an_Angel</td>\n      <td>1990.0</td>\n      <td>https://www.imdb.com/title/tt0099018/</td>\n      <td>Almost an Angel</td>\n      <td>John Cornell</td>\n      <td>John Cornell</td>\n      <td>NaN</td>\n      <td>NaN</td>\n      <td>NaN</td>\n      <td>[Paul Hogan, Elias Koteas, Linda Kozlowski]</td>\n      <td>...</td>\n      <td>NaN</td>\n      <td>NaN</td>\n      <td>NaN</td>\n      <td>NaN</td>\n      <td>NaN</td>\n      <td>NaN</td>\n      <td>NaN</td>\n      <td>NaN</td>\n      <td>NaN</td>\n      <td>NaN</td>\n    </tr>\n  </tbody>\n</table>\n<p>5 rows × 193 columns</p>\n</div>"
     },
     "metadata": {},
     "execution_count": 8
    }
   ],
   "source": [
    "wiki_movies_df.head()"
   ]
  },
  {
   "cell_type": "code",
   "execution_count": 9,
   "metadata": {},
   "outputs": [
    {
     "output_type": "execute_result",
     "data": {
      "text/plain": "['url',\n 'year',\n 'imdb_link',\n 'title',\n 'Directed by',\n 'Produced by',\n 'Screenplay by',\n 'Story by',\n 'Based on',\n 'Starring',\n 'Narrated by',\n 'Music by',\n 'Cinematography',\n 'Edited by',\n 'Productioncompany ',\n 'Distributed by',\n 'Release date',\n 'Running time',\n 'Country',\n 'Language',\n 'Budget',\n 'Box office',\n 'Written by',\n 'Genre',\n 'Theme music composer',\n 'Country of origin',\n 'Original language(s)',\n 'Producer(s)',\n 'Editor(s)',\n 'Production company(s)',\n 'Original network',\n 'Original release',\n 'Productioncompanies ',\n 'Executive producer(s)',\n 'Production location(s)',\n 'Distributor',\n 'Picture format',\n 'Audio format',\n 'Voices of',\n 'Followed by',\n 'Composer(s)',\n 'Created by',\n 'Also known as',\n 'Opening theme',\n 'No. of episodes',\n 'Preceded by',\n 'Author',\n 'Publisher',\n 'Publication date',\n 'Media type',\n 'Pages',\n 'ISBN',\n 'OCLC',\n 'LC Class',\n 'Cover artist',\n 'Series',\n 'Set in',\n 'Adaptation by',\n 'Suggested by',\n 'Biographical data',\n 'Born',\n 'Died',\n 'Resting place',\n 'Occupation',\n 'Years active',\n 'Spouse(s)',\n 'Children',\n 'Parent(s)',\n 'Genres',\n 'Instruments',\n 'Labels',\n 'Website',\n 'Traditional',\n 'Mandarin',\n 'Type',\n 'Industry',\n 'Fate',\n 'Founded',\n 'Founder',\n 'Headquarters',\n 'Parent',\n 'Released',\n 'Recorded',\n 'Venue',\n 'Length',\n 'Label',\n 'Director',\n 'Producer',\n 'Area',\n 'Coordinates',\n 'Status',\n 'Opening date',\n 'Closing date',\n 'Replaced',\n 'Replaced by',\n 'Name',\n 'Attraction type',\n 'Music',\n 'Duration',\n 'Simplified Chinese',\n 'Traditional Chinese',\n 'Hanyu Pinyin',\n 'Literal meaning',\n 'Transcriptions',\n 'Bopomofo',\n 'Gwoyeu Romatzyh',\n 'Wade–Giles',\n 'IPA',\n 'Yale Romanization',\n 'Jyutping',\n 'Hokkien POJ',\n 'Animation by',\n 'Color process',\n 'Engine(s)',\n 'Genre(s)',\n 'Actor control',\n 'Production company',\n 'Release(s)',\n 'Format(s)',\n 'Simplified',\n 'Characters',\n 'Date premiered',\n 'Place premiered',\n 'Setting',\n 'Original language',\n 'Subject',\n 'Published',\n 'Dewey Decimal',\n 'Text',\n 'Illustrator',\n 'Original title',\n 'Published in English',\n 'French',\n 'Developed by',\n 'Ending theme',\n 'No. of seasons',\n 'Nationality',\n 'Portrayed by',\n 'Alias',\n 'Species',\n 'Gender',\n 'Family',\n 'Alma mater',\n 'Camera setup',\n 'Novel(s)',\n 'Comics',\n 'Film(s)',\n 'Screen story by',\n 'Hangul',\n 'Revised Romanization',\n 'McCune–Reischauer',\n 'Developer(s)',\n 'Publisher(s)',\n 'Designer(s)',\n 'Programmer(s)',\n 'Artist(s)',\n 'Writer(s)',\n 'Engine',\n 'Platform(s)',\n 'Release',\n 'Mode(s)',\n 'Original work',\n 'Television series',\n 'Japanese',\n 'Hepburn',\n 'Literally',\n 'Cantonese',\n 'Full name',\n 'Height',\n 'Seasons',\n 'Chinese',\n 'Other names',\n 'Relatives',\n 'Yiddish',\n 'Formerly',\n 'Key people',\n 'Total assets',\n 'Owner',\n 'Number of employees',\n 'Divisions',\n 'Subsidiaries',\n 'Arabic',\n 'Romanized',\n 'Predecessor',\n 'Founders',\n 'Area served',\n 'Products',\n 'Services',\n 'Russian',\n 'Hebrew',\n 'Revenue',\n 'Operating income',\n 'Polish']"
     },
     "metadata": {},
     "execution_count": 9
    }
   ],
   "source": [
    "wiki_movies_df.columns.to_list()"
   ]
  },
  {
   "cell_type": "code",
   "execution_count": 10,
   "metadata": {},
   "outputs": [],
   "source": [
    "wiki_movies = [movie for movie in wiki_movies_raw if ('Director' in movie or 'Directed by' in movie) and 'imdb_link' in movie and 'No. of episodes' not in movie]"
   ]
  },
  {
   "cell_type": "code",
   "execution_count": 11,
   "metadata": {},
   "outputs": [
    {
     "output_type": "execute_result",
     "data": {
      "text/plain": "7076"
     },
     "metadata": {},
     "execution_count": 11
    }
   ],
   "source": [
    "len(wiki_movies)"
   ]
  },
  {
   "cell_type": "code",
   "execution_count": 12,
   "metadata": {},
   "outputs": [],
   "source": [
    "def clean_movie(movie):\n",
    "    movie = dict(movie) #create a non-destructive copy\n",
    "    alt_titles = {}\n",
    "    # combine alternate titles into one list\n",
    "    for key in ['Also known as','Arabic','Cantonese','Chinese','French',\n",
    "                'Hangul','Hebrew','Hepburn','Japanese','Literally',\n",
    "                'Mandarin','McCune–Reischauer','Original title','Polish',\n",
    "                'Revised Romanization','Romanized','Russian',\n",
    "                'Simplified','Traditional','Yiddish']:\n",
    "        if key in movie:\n",
    "            alt_titles[key] = movie[key]\n",
    "            movie.pop(key)\n",
    "    if len(alt_titles) > 0:\n",
    "        movie['alt_titles'] = alt_titles\n",
    "\n",
    "    # merge column names\n",
    "    def change_column_name(old_name, new_name):\n",
    "        if old_name in movie:\n",
    "            movie[new_name] = movie.pop(old_name)\n",
    "    change_column_name('Adaptation by', 'Writer(s)')\n",
    "    change_column_name('Country of origin', 'Country')\n",
    "    change_column_name('Directed by', 'Director')\n",
    "    change_column_name('Distributed by', 'Distributor')\n",
    "    change_column_name('Edited by', 'Editor(s)')\n",
    "    change_column_name('Length', 'Running time')\n",
    "    change_column_name('Original release', 'Release date')\n",
    "    change_column_name('Music by', 'Composer(s)')\n",
    "    change_column_name('Produced by', 'Producer(s)')\n",
    "    change_column_name('Producer', 'Producer(s)')\n",
    "    change_column_name('Productioncompanies ', 'Production company(s)')\n",
    "    change_column_name('Productioncompany ', 'Production company(s)')\n",
    "    change_column_name('Released', 'Release Date')\n",
    "    change_column_name('Release Date', 'Release date')\n",
    "    change_column_name('Screen story by', 'Writer(s)')\n",
    "    change_column_name('Screenplay by', 'Writer(s)')\n",
    "    change_column_name('Story by', 'Writer(s)')\n",
    "    change_column_name('Theme music composer', 'Composer(s)')\n",
    "    change_column_name('Written by', 'Writer(s)')\n",
    "\n",
    "    return movie"
   ]
  },
  {
   "cell_type": "code",
   "execution_count": 13,
   "metadata": {},
   "outputs": [
    {
     "output_type": "execute_result",
     "data": {
      "text/plain": "['Animation by',\n 'Audio format',\n 'Based on',\n 'Box office',\n 'Budget',\n 'Cinematography',\n 'Color process',\n 'Composer(s)',\n 'Country',\n 'Created by',\n 'Director',\n 'Distributor',\n 'Editor(s)',\n 'Executive producer(s)',\n 'Followed by',\n 'Genre',\n 'Label',\n 'Language',\n 'Narrated by',\n 'Original language(s)',\n 'Original network',\n 'Picture format',\n 'Preceded by',\n 'Producer(s)',\n 'Production company(s)',\n 'Production location(s)',\n 'Recorded',\n 'Release date',\n 'Running time',\n 'Starring',\n 'Suggested by',\n 'Venue',\n 'Voices of',\n 'Writer(s)',\n 'alt_titles',\n 'imdb_link',\n 'title',\n 'url',\n 'year']"
     },
     "metadata": {},
     "execution_count": 13
    }
   ],
   "source": [
    "clean_movies = [clean_movie(movie) for movie in wiki_movies]\n",
    "wiki_movies_df = pd.DataFrame(clean_movies)\n",
    "sorted(wiki_movies_df.columns.to_list())"
   ]
  },
  {
   "cell_type": "code",
   "execution_count": 14,
   "metadata": {
    "tags": []
   },
   "outputs": [
    {
     "output_type": "stream",
     "name": "stdout",
     "text": "7076\n7033\n"
    },
    {
     "output_type": "execute_result",
     "data": {
      "text/plain": "                                                 url  year  \\\n0  https://en.wikipedia.org/wiki/The_Adventures_o...  1990   \n1  https://en.wikipedia.org/wiki/After_Dark,_My_S...  1990   \n2   https://en.wikipedia.org/wiki/Air_America_(film)  1990   \n3    https://en.wikipedia.org/wiki/Alice_(1990_film)  1990   \n4      https://en.wikipedia.org/wiki/Almost_an_Angel  1990   \n\n                               imdb_link                            title  \\\n0  https://www.imdb.com/title/tt0098987/  The Adventures of Ford Fairlane   \n1  https://www.imdb.com/title/tt0098994/             After Dark, My Sweet   \n2  https://www.imdb.com/title/tt0099005/                      Air America   \n3  https://www.imdb.com/title/tt0099012/                            Alice   \n4  https://www.imdb.com/title/tt0099018/                  Almost an Angel   \n\n                                            Based on  \\\n0                        [Characters, by Rex Weiner]   \n1  [the novel, After Dark, My Sweet, by, Jim Thom...   \n2             [Air America, by, Christopher Robbins]   \n3                                                NaN   \n4                                                NaN   \n\n                                            Starring         Narrated by  \\\n0  [Andrew Dice Clay, Wayne Newton, Priscilla Pre...  Andrew \"Dice\" Clay   \n1  [Jason Patric, Rachel Ward, Bruce Dern, George...                 NaN   \n2  [Mel Gibson, Robert Downey Jr., Nancy Travis, ...                 NaN   \n3  [Alec Baldwin, Blythe Danner, Judy Davis, Mia ...                 NaN   \n4        [Paul Hogan, Elias Koteas, Linda Kozlowski]                 NaN   \n\n   Cinematography                                       Release date  \\\n0     Oliver Wood                  [July 11, 1990, (, 1990-07-11, )]   \n1    Mark Plummer  [May 17, 1990, (, 1990-05-17, ), (Cannes Film ...   \n2   Roger Deakins                [August 10, 1990, (, 1990-08-10, )]   \n3  Carlo Di Palma              [December 25, 1990, (, 1990-12-25, )]   \n4    Russell Boyd                                  December 19, 1990   \n\n  Running time  ... Created by Preceded by Suggested by alt_titles Recorded  \\\n0  102 minutes  ...        NaN         NaN          NaN        NaN      NaN   \n1  114 minutes  ...        NaN         NaN          NaN        NaN      NaN   \n2  113 minutes  ...        NaN         NaN          NaN        NaN      NaN   \n3  106 minutes  ...        NaN         NaN          NaN        NaN      NaN   \n4   95 minutes  ...        NaN         NaN          NaN        NaN      NaN   \n\n  Venue Label Animation by Color process    imdb_id  \n0   NaN   NaN          NaN           NaN  tt0098987  \n1   NaN   NaN          NaN           NaN  tt0098994  \n2   NaN   NaN          NaN           NaN  tt0099005  \n3   NaN   NaN          NaN           NaN  tt0099012  \n4   NaN   NaN          NaN           NaN  tt0099018  \n\n[5 rows x 40 columns]",
      "text/html": "<div>\n<style scoped>\n    .dataframe tbody tr th:only-of-type {\n        vertical-align: middle;\n    }\n\n    .dataframe tbody tr th {\n        vertical-align: top;\n    }\n\n    .dataframe thead th {\n        text-align: right;\n    }\n</style>\n<table border=\"1\" class=\"dataframe\">\n  <thead>\n    <tr style=\"text-align: right;\">\n      <th></th>\n      <th>url</th>\n      <th>year</th>\n      <th>imdb_link</th>\n      <th>title</th>\n      <th>Based on</th>\n      <th>Starring</th>\n      <th>Narrated by</th>\n      <th>Cinematography</th>\n      <th>Release date</th>\n      <th>Running time</th>\n      <th>...</th>\n      <th>Created by</th>\n      <th>Preceded by</th>\n      <th>Suggested by</th>\n      <th>alt_titles</th>\n      <th>Recorded</th>\n      <th>Venue</th>\n      <th>Label</th>\n      <th>Animation by</th>\n      <th>Color process</th>\n      <th>imdb_id</th>\n    </tr>\n  </thead>\n  <tbody>\n    <tr>\n      <td>0</td>\n      <td>https://en.wikipedia.org/wiki/The_Adventures_o...</td>\n      <td>1990</td>\n      <td>https://www.imdb.com/title/tt0098987/</td>\n      <td>The Adventures of Ford Fairlane</td>\n      <td>[Characters, by Rex Weiner]</td>\n      <td>[Andrew Dice Clay, Wayne Newton, Priscilla Pre...</td>\n      <td>Andrew \"Dice\" Clay</td>\n      <td>Oliver Wood</td>\n      <td>[July 11, 1990, (, 1990-07-11, )]</td>\n      <td>102 minutes</td>\n      <td>...</td>\n      <td>NaN</td>\n      <td>NaN</td>\n      <td>NaN</td>\n      <td>NaN</td>\n      <td>NaN</td>\n      <td>NaN</td>\n      <td>NaN</td>\n      <td>NaN</td>\n      <td>NaN</td>\n      <td>tt0098987</td>\n    </tr>\n    <tr>\n      <td>1</td>\n      <td>https://en.wikipedia.org/wiki/After_Dark,_My_S...</td>\n      <td>1990</td>\n      <td>https://www.imdb.com/title/tt0098994/</td>\n      <td>After Dark, My Sweet</td>\n      <td>[the novel, After Dark, My Sweet, by, Jim Thom...</td>\n      <td>[Jason Patric, Rachel Ward, Bruce Dern, George...</td>\n      <td>NaN</td>\n      <td>Mark Plummer</td>\n      <td>[May 17, 1990, (, 1990-05-17, ), (Cannes Film ...</td>\n      <td>114 minutes</td>\n      <td>...</td>\n      <td>NaN</td>\n      <td>NaN</td>\n      <td>NaN</td>\n      <td>NaN</td>\n      <td>NaN</td>\n      <td>NaN</td>\n      <td>NaN</td>\n      <td>NaN</td>\n      <td>NaN</td>\n      <td>tt0098994</td>\n    </tr>\n    <tr>\n      <td>2</td>\n      <td>https://en.wikipedia.org/wiki/Air_America_(film)</td>\n      <td>1990</td>\n      <td>https://www.imdb.com/title/tt0099005/</td>\n      <td>Air America</td>\n      <td>[Air America, by, Christopher Robbins]</td>\n      <td>[Mel Gibson, Robert Downey Jr., Nancy Travis, ...</td>\n      <td>NaN</td>\n      <td>Roger Deakins</td>\n      <td>[August 10, 1990, (, 1990-08-10, )]</td>\n      <td>113 minutes</td>\n      <td>...</td>\n      <td>NaN</td>\n      <td>NaN</td>\n      <td>NaN</td>\n      <td>NaN</td>\n      <td>NaN</td>\n      <td>NaN</td>\n      <td>NaN</td>\n      <td>NaN</td>\n      <td>NaN</td>\n      <td>tt0099005</td>\n    </tr>\n    <tr>\n      <td>3</td>\n      <td>https://en.wikipedia.org/wiki/Alice_(1990_film)</td>\n      <td>1990</td>\n      <td>https://www.imdb.com/title/tt0099012/</td>\n      <td>Alice</td>\n      <td>NaN</td>\n      <td>[Alec Baldwin, Blythe Danner, Judy Davis, Mia ...</td>\n      <td>NaN</td>\n      <td>Carlo Di Palma</td>\n      <td>[December 25, 1990, (, 1990-12-25, )]</td>\n      <td>106 minutes</td>\n      <td>...</td>\n      <td>NaN</td>\n      <td>NaN</td>\n      <td>NaN</td>\n      <td>NaN</td>\n      <td>NaN</td>\n      <td>NaN</td>\n      <td>NaN</td>\n      <td>NaN</td>\n      <td>NaN</td>\n      <td>tt0099012</td>\n    </tr>\n    <tr>\n      <td>4</td>\n      <td>https://en.wikipedia.org/wiki/Almost_an_Angel</td>\n      <td>1990</td>\n      <td>https://www.imdb.com/title/tt0099018/</td>\n      <td>Almost an Angel</td>\n      <td>NaN</td>\n      <td>[Paul Hogan, Elias Koteas, Linda Kozlowski]</td>\n      <td>NaN</td>\n      <td>Russell Boyd</td>\n      <td>December 19, 1990</td>\n      <td>95 minutes</td>\n      <td>...</td>\n      <td>NaN</td>\n      <td>NaN</td>\n      <td>NaN</td>\n      <td>NaN</td>\n      <td>NaN</td>\n      <td>NaN</td>\n      <td>NaN</td>\n      <td>NaN</td>\n      <td>NaN</td>\n      <td>tt0099018</td>\n    </tr>\n  </tbody>\n</table>\n<p>5 rows × 40 columns</p>\n</div>"
     },
     "metadata": {},
     "execution_count": 14
    }
   ],
   "source": [
    "wiki_movies_df['imdb_id'] = wiki_movies_df['imdb_link'].str.extract(r'(tt\\d{7})')\n",
    "print(len(wiki_movies_df))\n",
    "wiki_movies_df.drop_duplicates(subset='imdb_id', inplace=True)\n",
    "print(len(wiki_movies_df))\n",
    "wiki_movies_df.head()"
   ]
  },
  {
   "cell_type": "code",
   "execution_count": 21,
   "metadata": {},
   "outputs": [],
   "source": [
    "wiki_columns_to_keep = [column for column in wiki_movies_df.columns if wiki_movies_df[column].isnull().sum() < len(wiki_movies_df) * 0.9]\n",
    "wiki_movies_df = wiki_movies_df[wiki_columns_to_keep]"
   ]
  },
  {
   "cell_type": "code",
   "execution_count": 22,
   "metadata": {},
   "outputs": [
    {
     "output_type": "execute_result",
     "data": {
      "text/plain": "url                      object\nyear                      int64\nimdb_link                object\ntitle                    object\nBased on                 object\nStarring                 object\nCinematography           object\nRelease date             object\nRunning time             object\nCountry                  object\nLanguage                 object\nBudget                   object\nBox office               object\nDirector                 object\nDistributor              object\nEditor(s)                object\nComposer(s)              object\nProducer(s)              object\nProduction company(s)    object\nWriter(s)                object\nimdb_id                  object\ndtype: object"
     },
     "metadata": {},
     "execution_count": 22
    }
   ],
   "source": [
    "wiki_movies_df.dtypes"
   ]
  },
  {
   "cell_type": "code",
   "execution_count": 23,
   "metadata": {},
   "outputs": [],
   "source": [
    "box_office = wiki_movies_df['Box office'].dropna() "
   ]
  },
  {
   "cell_type": "code",
   "execution_count": 28,
   "metadata": {},
   "outputs": [],
   "source": [
    "# convert to strings\n",
    "box_office = box_office.apply(lambda x: ' '.join(x) if type(x) == list else x)\n"
   ]
  },
  {
   "cell_type": "code",
   "execution_count": 29,
   "metadata": {},
   "outputs": [
    {
     "output_type": "execute_result",
     "data": {
      "text/plain": "0          $21.4 million\n1           $2.7 million\n2            $57,718,089\n3             $7,331,647\n4       $6,939,946 (USA)\n              ...       \n7070       $19.4 million\n7071       $41.9 million\n7072       $76.1 million\n7073       $38.4 million\n7074        $5.5 million\nName: Box office, Length: 5485, dtype: object"
     },
     "metadata": {},
     "execution_count": 29
    }
   ],
   "source": [
    "box_office"
   ]
  },
  {
   "cell_type": "code",
   "execution_count": 31,
   "metadata": {},
   "outputs": [],
   "source": [
    "# Create a regex string to find numbers that fit the format\n",
    "form_one = r'\\$\\s*\\d+\\.?\\d*\\s*[mb]illi?on'\n",
    "form_two = r'\\$\\s*\\d{1,3}(?:[,\\.]\\d{1,3})+(?!\\s[mb]illion)'"
   ]
  },
  {
   "cell_type": "code",
   "execution_count": 32,
   "metadata": {},
   "outputs": [
    {
     "output_type": "execute_result",
     "data": {
      "text/plain": "3896"
     },
     "metadata": {},
     "execution_count": 32
    }
   ],
   "source": [
    "box_office.str.contains(form_one, flags=re.IGNORECASE).sum()\n"
   ]
  },
  {
   "cell_type": "code",
   "execution_count": 33,
   "metadata": {},
   "outputs": [
    {
     "output_type": "execute_result",
     "data": {
      "text/plain": "1544"
     },
     "metadata": {},
     "execution_count": 33
    }
   ],
   "source": [
    "box_office.str.contains(form_two, flags=re.IGNORECASE).sum()\n"
   ]
  },
  {
   "cell_type": "code",
   "execution_count": 35,
   "metadata": {},
   "outputs": [
    {
     "output_type": "execute_result",
     "data": {
      "text/plain": "34                         US$ 4,212,828\n79                              $335.000\n110                   $4.35-4.37 million\n130                        US$ 4,803,039\n600                           $5000 (US)\n731                         $ 11,146,270\n957                             $ 50,004\n1070                          35,254,617\n1147    $ 407,618 (U.S.) (sub-total) [1]\n1446                        $ 11,829,959\n1480                          £3 million\n1611                            $520.000\n1865                        ¥1.1 billion\n2032                                 N/A\n2091                                $309\n2130               US$ 171.8 million [9]\n2257                   US$ 3,395,581 [1]\n2263            $ 1,223,034 ( domestic )\n2347                            $282.175\n2638            $ 104,883 (US sub-total)\n2665         926,423 admissions (France)\n2697      $ 1.7 million (US) (sub-total)\n2823                            $414.000\n2924                            $621.000\n3088           $32 [2] –33.1 million [1]\n3631                                 TBA\n3859                  $38.9–40.3 million\n3879            CN¥3.650 million (China)\n4116                          £7,385,434\n4123                            $161.000\n4261                  $20.7–23.9 million\n4306                              $20-30\n4492                        $47.7 millon\n4561             $45.2k (only in Turkey)\n4662                USD$ 8.2 million [2]\n5362                   $ 142 million [3]\n5447                               £2.56\n5784                            413 733$\n6013                             Unknown\n6145                  $17.5–18.4 million\n6234                  $41.8–41.9 million\n6369                               $111k\n6370                                $588\n6593                      less than $372\n6829                    $ 41 million [3]\n6843                             8 crore\n6904                         $6.9 millon\nName: Box office, dtype: object"
     },
     "metadata": {},
     "execution_count": 35
    }
   ],
   "source": [
    "matches_form_one = box_office.str.contains(form_one, flags=re.IGNORECASE)\n",
    "matches_form_two = box_office.str.contains(form_two, flags=re.IGNORECASE)\n",
    "box_office[~matches_form_one & ~matches_form_two]\n",
    "box_office = box_office.str.replace(r'\\$.*[-—–](?![a-z])', '$', regex=True)\n"
   ]
  },
  {
   "cell_type": "code",
   "execution_count": null,
   "metadata": {},
   "outputs": [],
   "source": []
  }
 ],
 "metadata": {
  "kernelspec": {
   "display_name": "Python 3.7.4 64-bit ('base': conda)",
   "language": "python",
   "name": "python_defaultSpec_1595126668480"
  },
  "language_info": {
   "codemirror_mode": {
    "name": "ipython",
    "version": 3
   },
   "file_extension": ".py",
   "mimetype": "text/x-python",
   "name": "python",
   "nbconvert_exporter": "python",
   "pygments_lexer": "ipython3",
   "version": "3.7.4-final"
  }
 },
 "nbformat": 4,
 "nbformat_minor": 2
}